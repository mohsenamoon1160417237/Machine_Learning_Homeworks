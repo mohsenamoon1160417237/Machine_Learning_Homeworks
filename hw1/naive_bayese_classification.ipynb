{
 "cells": [
  {
   "cell_type": "code",
   "execution_count": 28,
   "id": "5c9e55fd",
   "metadata": {},
   "outputs": [],
   "source": [
    "# محسن آمون ۴۰۳۰۲۵۲۴\n",
    "\n",
    "\n",
    "from typing import List\n",
    "\n",
    "import numpy as np\n",
    "import matplotlib.pyplot as plt\n",
    "from scipy.stats import multivariate_normal"
   ]
  },
  {
   "cell_type": "code",
   "execution_count": 2,
   "id": "4e460602",
   "metadata": {},
   "outputs": [],
   "source": [
    "train_mean_vector = [1, 1]\n",
    "train_cov_vector = [[2, 0], [0, 1]]\n",
    "\n",
    "test_mean_vector = [3, 2]\n",
    "test_cov_vector = [[2, 0], [0, 1]]"
   ]
  },
  {
   "cell_type": "code",
   "execution_count": 3,
   "id": "7b73fccc",
   "metadata": {},
   "outputs": [],
   "source": [
    "def gen_gaussian_data(mean_vector: list, cov_vector: List[List], num_samples: int):\n",
    "    data = np.random.multivariate_normal(mean_vector, cov_vector, size=num_samples)\n",
    "    return data"
   ]
  },
  {
   "cell_type": "code",
   "execution_count": 4,
   "id": "9a0784e4",
   "metadata": {},
   "outputs": [],
   "source": [
    "train_data = gen_gaussian_data(train_mean_vector, train_cov_vector, 100)"
   ]
  },
  {
   "cell_type": "code",
   "execution_count": 5,
   "id": "ef0e6a58",
   "metadata": {},
   "outputs": [],
   "source": [
    "test_data = gen_gaussian_data(test_mean_vector, test_cov_vector, 100)"
   ]
  },
  {
   "cell_type": "code",
   "execution_count": 6,
   "id": "e147863d",
   "metadata": {},
   "outputs": [
    {
     "data": {
      "text/plain": [
       "array([[ 0.5590002 ,  1.47528658],\n",
       "       [ 1.85275547,  0.70764377],\n",
       "       [ 3.33133357, -0.09915905],\n",
       "       [ 0.69933061,  1.31542151],\n",
       "       [ 1.03274825,  0.92451493],\n",
       "       [ 1.57720151,  0.03022598],\n",
       "       [ 2.58964377,  1.56146422],\n",
       "       [ 0.52247672,  2.75634765],\n",
       "       [-0.84139261,  0.33250077],\n",
       "       [-0.17849055,  0.76527518],\n",
       "       [ 0.74356586, -0.19266291],\n",
       "       [ 1.50672425,  1.04372826],\n",
       "       [ 1.94834454,  0.14330722],\n",
       "       [ 1.18363959,  1.34074315],\n",
       "       [ 1.02905451,  0.19588639],\n",
       "       [-1.46696022, -0.06698179],\n",
       "       [ 1.78525278,  2.26918722],\n",
       "       [-0.19412786,  2.05960355],\n",
       "       [-0.29099863, -0.63958836],\n",
       "       [ 2.62504517,  1.2639948 ],\n",
       "       [ 1.85292946,  1.03416965],\n",
       "       [-1.46359011,  0.81748705],\n",
       "       [-0.09621736,  0.43480751],\n",
       "       [ 0.95533545,  3.21785023],\n",
       "       [ 1.06546809,  0.32108844],\n",
       "       [ 1.6151728 ,  2.63265023],\n",
       "       [-1.97960413,  1.05137944],\n",
       "       [ 0.58348171,  1.29704326],\n",
       "       [ 0.7766861 , -0.23827226],\n",
       "       [ 3.17285501,  0.08863061],\n",
       "       [-0.67784623,  1.574054  ],\n",
       "       [-0.2319129 ,  0.86451105],\n",
       "       [ 0.29853697,  0.86042912],\n",
       "       [-0.14550247,  2.93510437],\n",
       "       [ 1.55384401,  0.24606082],\n",
       "       [ 3.16809616,  0.51915798],\n",
       "       [ 0.99342659,  0.55562947],\n",
       "       [-0.6477519 ,  1.0940616 ],\n",
       "       [-0.02263239, -0.21271892],\n",
       "       [ 1.42053625,  0.35630979],\n",
       "       [-0.79145077,  0.66714389],\n",
       "       [-1.86025007,  0.58824678],\n",
       "       [-1.90393459,  0.58050188],\n",
       "       [-2.00658764,  0.76806023],\n",
       "       [ 4.15509611,  2.13228168],\n",
       "       [-0.3397363 ,  1.61825008],\n",
       "       [-0.47415706,  0.7466356 ],\n",
       "       [ 1.30673551,  1.35076968],\n",
       "       [ 2.03858439,  1.26608004],\n",
       "       [-1.12130436, -0.51997357],\n",
       "       [ 0.16244022,  2.16115488],\n",
       "       [-0.08513586,  1.30649183],\n",
       "       [ 1.76504873, -0.01223992],\n",
       "       [ 2.89890988, -1.29901236],\n",
       "       [ 0.98735161,  1.22155575],\n",
       "       [ 2.88746755, -0.24914962],\n",
       "       [ 1.0298026 ,  1.25932874],\n",
       "       [ 1.11398632,  3.98608746],\n",
       "       [ 1.83450336,  0.82285889],\n",
       "       [ 0.85137754, -0.04947368],\n",
       "       [-2.36991977,  0.98576038],\n",
       "       [ 3.50539867,  1.4519111 ],\n",
       "       [ 1.02927276,  1.25009377],\n",
       "       [ 0.26446478,  2.29832442],\n",
       "       [ 0.66664054,  0.60037942],\n",
       "       [ 1.31234561, -0.39470455],\n",
       "       [ 1.3969288 , -0.44463711],\n",
       "       [ 0.06759076,  1.62296107],\n",
       "       [ 1.61185235,  0.94075932],\n",
       "       [ 0.95983571,  0.84502007],\n",
       "       [ 3.24396836,  1.4126771 ],\n",
       "       [ 1.75097371,  1.1805499 ],\n",
       "       [ 0.62983755,  0.16752943],\n",
       "       [ 0.59002549,  0.69880148],\n",
       "       [ 2.18755988,  1.42651478],\n",
       "       [-0.22385641,  0.52588217],\n",
       "       [-0.4334454 ,  1.18147267],\n",
       "       [ 0.30375944,  0.13784305],\n",
       "       [-0.11110293,  0.33167698],\n",
       "       [ 0.9709173 ,  1.30209842],\n",
       "       [ 2.12720287,  1.16792029],\n",
       "       [ 2.04207921, -0.27654938],\n",
       "       [ 2.07210058,  1.97224893],\n",
       "       [ 0.09165585,  1.02007137],\n",
       "       [ 0.07770416,  0.44353191],\n",
       "       [ 2.49273138, -0.23101496],\n",
       "       [-0.23021974,  0.51646985],\n",
       "       [ 2.34990803,  2.49113671],\n",
       "       [ 4.32302869,  0.95425021],\n",
       "       [-1.96950139,  0.35458103],\n",
       "       [ 0.00464096,  0.61490594],\n",
       "       [ 1.45002748,  1.68778218],\n",
       "       [ 0.4427505 ,  1.44149347],\n",
       "       [ 1.74189292,  1.28796287],\n",
       "       [ 0.65366643,  1.48419285],\n",
       "       [ 0.02799583, -0.3880221 ],\n",
       "       [ 1.34731775,  1.88666183],\n",
       "       [-0.33147633,  0.49865451],\n",
       "       [ 1.70579927,  0.10202335],\n",
       "       [ 0.15526913,  2.31951741]])"
      ]
     },
     "execution_count": 6,
     "metadata": {},
     "output_type": "execute_result"
    }
   ],
   "source": [
    "train_data"
   ]
  },
  {
   "cell_type": "code",
   "execution_count": 7,
   "id": "64d5b5e6",
   "metadata": {},
   "outputs": [
    {
     "data": {
      "text/plain": [
       "array([[ 3.71249016,  2.82342512],\n",
       "       [ 3.09087056,  0.6371339 ],\n",
       "       [ 3.33564841,  1.68481822],\n",
       "       [ 3.15233969,  1.22881412],\n",
       "       [ 3.14477144,  3.02707239],\n",
       "       [ 3.38057277,  0.74459251],\n",
       "       [ 4.51420844,  2.69190012],\n",
       "       [ 3.68299333,  2.03612416],\n",
       "       [ 1.50384821,  1.9941822 ],\n",
       "       [ 1.9934646 ,  2.1199727 ],\n",
       "       [ 2.29379619,  2.3448075 ],\n",
       "       [ 4.23930462,  0.59385564],\n",
       "       [ 3.13173308,  1.13039513],\n",
       "       [ 4.45291295,  0.7464129 ],\n",
       "       [ 3.16764852,  2.79944599],\n",
       "       [ 4.03373264,  4.11234639],\n",
       "       [ 5.02064105,  1.97678581],\n",
       "       [ 3.25032513,  1.85446266],\n",
       "       [ 4.965452  ,  2.46307562],\n",
       "       [ 5.02328668,  1.68641351],\n",
       "       [ 3.10249312,  2.6394513 ],\n",
       "       [ 4.20744363,  2.84200448],\n",
       "       [ 3.35794774, -0.57530188],\n",
       "       [ 0.63748538,  1.48558927],\n",
       "       [ 3.24077827,  2.35874104],\n",
       "       [ 4.93883206,  2.10715974],\n",
       "       [ 2.57262468,  2.04830125],\n",
       "       [ 2.71017922,  2.58224031],\n",
       "       [ 3.294632  ,  2.49186798],\n",
       "       [ 3.81404459,  1.0294649 ],\n",
       "       [ 3.77473034,  2.07660324],\n",
       "       [ 2.73778222,  3.15197155],\n",
       "       [ 0.23627111,  1.46581722],\n",
       "       [ 4.24147948,  1.89339985],\n",
       "       [ 2.03744077,  2.00144907],\n",
       "       [ 2.84123999, -0.24607927],\n",
       "       [ 2.80151274,  2.32831487],\n",
       "       [ 0.9526999 ,  0.87264291],\n",
       "       [ 4.49672819,  3.39351011],\n",
       "       [ 4.15684791,  0.96575004],\n",
       "       [ 5.45095033,  0.88930517],\n",
       "       [ 3.82914694,  1.52341742],\n",
       "       [ 4.39868839,  1.97872994],\n",
       "       [ 2.48721454,  1.6103669 ],\n",
       "       [ 3.0638975 ,  1.64152471],\n",
       "       [ 3.52005914,  2.58182733],\n",
       "       [ 1.73689242,  1.24734558],\n",
       "       [ 3.8113623 ,  1.96337695],\n",
       "       [ 4.12740837,  2.34585234],\n",
       "       [ 3.99717166,  3.042188  ],\n",
       "       [ 4.58502541,  0.79114939],\n",
       "       [ 3.66634874,  3.22515891],\n",
       "       [ 1.34970483,  2.03643373],\n",
       "       [ 2.3274817 ,  0.42922229],\n",
       "       [ 4.25171519,  2.35123063],\n",
       "       [ 5.3638366 ,  1.91563922],\n",
       "       [ 2.65272422, -1.3676103 ],\n",
       "       [ 1.69919395,  2.1760265 ],\n",
       "       [ 2.66686633,  1.40237538],\n",
       "       [ 5.26865125,  0.15864772],\n",
       "       [ 0.37121143,  3.25577053],\n",
       "       [ 2.29742872,  3.484458  ],\n",
       "       [ 1.75106173,  0.83916162],\n",
       "       [ 0.22701993,  2.22459459],\n",
       "       [ 1.47566829,  0.53041412],\n",
       "       [ 4.19959988,  0.6984353 ],\n",
       "       [ 4.13028465,  1.26591276],\n",
       "       [ 2.60589291,  2.7923143 ],\n",
       "       [ 2.97423436,  2.27655911],\n",
       "       [ 0.88043519,  2.31139502],\n",
       "       [ 0.38304055,  1.02084849],\n",
       "       [ 3.86426331,  1.56033126],\n",
       "       [ 1.92662137,  0.84752225],\n",
       "       [ 2.11593478,  1.02168611],\n",
       "       [ 3.67186917,  2.23698993],\n",
       "       [ 4.62849081,  1.07294975],\n",
       "       [ 0.73762003,  2.79550643],\n",
       "       [ 4.50614415,  2.74423089],\n",
       "       [ 3.63971372,  1.96546076],\n",
       "       [ 4.61056689,  0.95697542],\n",
       "       [ 2.07686963,  0.65594258],\n",
       "       [ 3.02087283,  1.62462283],\n",
       "       [ 4.38275276,  1.8915418 ],\n",
       "       [ 3.64687417,  1.06194715],\n",
       "       [ 1.81147847,  3.15606826],\n",
       "       [ 2.88920786,  2.35003557],\n",
       "       [ 2.3897216 ,  0.9101065 ],\n",
       "       [ 2.76313083,  1.98528743],\n",
       "       [ 1.3875638 ,  1.32146427],\n",
       "       [ 5.52330342,  2.91914254],\n",
       "       [ 2.80879646,  2.08725847],\n",
       "       [ 4.73276765,  2.13315878],\n",
       "       [ 5.14854531,  2.35052546],\n",
       "       [ 5.73244831,  1.86601569],\n",
       "       [ 2.10905746,  3.72833244],\n",
       "       [ 0.94315806,  2.73611722],\n",
       "       [ 5.92349385,  2.02352296],\n",
       "       [ 2.04704988,  5.02313029],\n",
       "       [ 3.41604551,  2.49795154],\n",
       "       [ 2.86271174,  3.00158041]])"
      ]
     },
     "execution_count": 7,
     "metadata": {},
     "output_type": "execute_result"
    }
   ],
   "source": [
    "test_data"
   ]
  },
  {
   "cell_type": "code",
   "execution_count": 8,
   "id": "f8315c97",
   "metadata": {},
   "outputs": [
    {
     "data": {
      "text/plain": [
       "0.8258182603678546"
      ]
     },
     "execution_count": 8,
     "metadata": {},
     "output_type": "execute_result"
    }
   ],
   "source": [
    "train_m_x = sum([x[0] for x in train_data]) / 100\n",
    "train_m_x"
   ]
  },
  {
   "cell_type": "code",
   "execution_count": 9,
   "id": "e3047b4d",
   "metadata": {},
   "outputs": [
    {
     "data": {
      "text/plain": [
       "0.9185050288543374"
      ]
     },
     "execution_count": 9,
     "metadata": {},
     "output_type": "execute_result"
    }
   ],
   "source": [
    "train_m_y = sum([x[1] for x in train_data]) / 100\n",
    "train_m_y"
   ]
  },
  {
   "cell_type": "code",
   "execution_count": 10,
   "id": "15affb20",
   "metadata": {},
   "outputs": [
    {
     "data": {
      "text/plain": [
       "1.902902442225975"
      ]
     },
     "execution_count": 10,
     "metadata": {},
     "output_type": "execute_result"
    }
   ],
   "source": [
    "train_var_x = sum([(x[0] - train_m_x) ** 2 for x in train_data]) / 100\n",
    "train_var_x"
   ]
  },
  {
   "cell_type": "code",
   "execution_count": 11,
   "id": "a7d7cc4e",
   "metadata": {},
   "outputs": [
    {
     "data": {
      "text/plain": [
       "0.8064820897825432"
      ]
     },
     "execution_count": 11,
     "metadata": {},
     "output_type": "execute_result"
    }
   ],
   "source": [
    "train_var_y = sum([(x[1] - train_m_y) ** 2 for x in train_data]) / 100\n",
    "train_var_y"
   ]
  },
  {
   "cell_type": "code",
   "execution_count": 12,
   "id": "ab193c36",
   "metadata": {},
   "outputs": [
    {
     "data": {
      "text/plain": [
       "3.1811052507544173"
      ]
     },
     "execution_count": 12,
     "metadata": {},
     "output_type": "execute_result"
    }
   ],
   "source": [
    "test_m_x = sum([x[0] for x in test_data]) / 100\n",
    "test_m_x"
   ]
  },
  {
   "cell_type": "code",
   "execution_count": 13,
   "id": "5df7deb1",
   "metadata": {},
   "outputs": [
    {
     "data": {
      "text/plain": [
       "1.8877641122664692"
      ]
     },
     "execution_count": 13,
     "metadata": {},
     "output_type": "execute_result"
    }
   ],
   "source": [
    "test_m_y = sum([x[1] for x in test_data]) / 100\n",
    "test_m_y"
   ]
  },
  {
   "cell_type": "code",
   "execution_count": 14,
   "id": "957cabed",
   "metadata": {},
   "outputs": [
    {
     "data": {
      "text/plain": [
       "1.7875676646640952"
      ]
     },
     "execution_count": 14,
     "metadata": {},
     "output_type": "execute_result"
    }
   ],
   "source": [
    "test_var_x = sum([(x[0] - test_m_x) ** 2 for x in test_data]) / 100\n",
    "test_var_x"
   ]
  },
  {
   "cell_type": "code",
   "execution_count": 15,
   "id": "64f58a25",
   "metadata": {},
   "outputs": [
    {
     "data": {
      "text/plain": [
       "0.9811287790348179"
      ]
     },
     "execution_count": 15,
     "metadata": {},
     "output_type": "execute_result"
    }
   ],
   "source": [
    "test_var_y = sum([(x[1] - test_m_y) ** 2 for x in test_data]) / 100\n",
    "test_var_y"
   ]
  },
  {
   "cell_type": "code",
   "execution_count": 180,
   "id": "b6d1137c",
   "metadata": {},
   "outputs": [],
   "source": [
    "new_train_data = gen_gaussian_data(train_mean_vector, train_cov_vector, 50)\n",
    "new_test_data = gen_gaussian_data(test_mean_vector, test_cov_vector, 50)"
   ]
  },
  {
   "cell_type": "code",
   "execution_count": 181,
   "id": "0f826593",
   "metadata": {},
   "outputs": [
    {
     "data": {
      "text/plain": [
       "1.1915007189523656"
      ]
     },
     "execution_count": 181,
     "metadata": {},
     "output_type": "execute_result"
    }
   ],
   "source": [
    "new_train_m_x = sum([x[0] for x in new_train_data]) / 50\n",
    "new_train_m_x"
   ]
  },
  {
   "cell_type": "code",
   "execution_count": 189,
   "id": "b1b06fd6",
   "metadata": {},
   "outputs": [
    {
     "data": {
      "text/plain": [
       "1.0421882995159317"
      ]
     },
     "execution_count": 189,
     "metadata": {},
     "output_type": "execute_result"
    }
   ],
   "source": [
    "new_train_m_y = sum([x[1] for x in new_train_data]) / 50\n",
    "new_train_m_y"
   ]
  },
  {
   "cell_type": "code",
   "execution_count": 183,
   "id": "1d4938a3",
   "metadata": {},
   "outputs": [
    {
     "data": {
      "text/plain": [
       "2.657371732462313"
      ]
     },
     "execution_count": 183,
     "metadata": {},
     "output_type": "execute_result"
    }
   ],
   "source": [
    "new_train_var_x = sum([(x[0] - new_train_m_x) ** 2 for x in new_train_data]) / 50\n",
    "new_train_var_x"
   ]
  },
  {
   "cell_type": "code",
   "execution_count": 184,
   "id": "abf9c65d",
   "metadata": {},
   "outputs": [
    {
     "data": {
      "text/plain": [
       "1.3561748025136675"
      ]
     },
     "execution_count": 184,
     "metadata": {},
     "output_type": "execute_result"
    }
   ],
   "source": [
    "new_train_var_y = sum([(x[1] - new_train_m_y) ** 2 for x in new_train_data]) / 50\n",
    "new_train_var_y"
   ]
  },
  {
   "cell_type": "code",
   "execution_count": 185,
   "id": "04603acb",
   "metadata": {},
   "outputs": [
    {
     "data": {
      "text/plain": [
       "2.961952259285229"
      ]
     },
     "execution_count": 185,
     "metadata": {},
     "output_type": "execute_result"
    }
   ],
   "source": [
    "new_test_m_x = sum([x[0] for x in new_test_data]) / 50\n",
    "new_test_m_x"
   ]
  },
  {
   "cell_type": "code",
   "execution_count": 186,
   "id": "7999c898",
   "metadata": {},
   "outputs": [
    {
     "data": {
      "text/plain": [
       "1.607901824250411"
      ]
     },
     "execution_count": 186,
     "metadata": {},
     "output_type": "execute_result"
    }
   ],
   "source": [
    "new_test_m_y = sum([x[1] for x in new_test_data]) / 50\n",
    "new_test_m_y"
   ]
  },
  {
   "cell_type": "code",
   "execution_count": 187,
   "id": "469b03d0",
   "metadata": {},
   "outputs": [
    {
     "data": {
      "text/plain": [
       "2.6334351713485495"
      ]
     },
     "execution_count": 187,
     "metadata": {},
     "output_type": "execute_result"
    }
   ],
   "source": [
    "new_test_var_x = sum([(x[0] - new_test_m_x) ** 2 for x in new_test_data]) / 50\n",
    "new_test_var_x"
   ]
  },
  {
   "cell_type": "code",
   "execution_count": 188,
   "id": "ecb7705a",
   "metadata": {},
   "outputs": [
    {
     "data": {
      "text/plain": [
       "0.9465845923816503"
      ]
     },
     "execution_count": 188,
     "metadata": {},
     "output_type": "execute_result"
    }
   ],
   "source": [
    "new_test_var_y = sum([(x[1] - new_test_m_y) ** 2 for x in new_test_data]) / 50\n",
    "new_test_var_y"
   ]
  },
  {
   "cell_type": "code",
   "execution_count": 47,
   "id": "44fca658",
   "metadata": {},
   "outputs": [],
   "source": [
    "data = np.concatenate((train_data, test_data))\n",
    "\n",
    "def multivariate_gaussian_likelihood(data_point, mean, cov):\n",
    "    # Calculate the determinant of the covariance matrix\n",
    "    det_cov = np.linalg.det(cov)\n",
    "\n",
    "    # Calculate the inverse of the covariance matrix\n",
    "    inv_cov = np.linalg.inv(cov)\n",
    "\n",
    "    # Calculate the exponent term\n",
    "    exponent = -0.5 * np.dot(np.dot((data_point - mean).T, inv_cov), (data_point - mean))\n",
    "\n",
    "    # Calculate the likelihood\n",
    "    likelihood = (1 / ((2 * np.pi)**(len(data_point) / 2) * (det_cov)**(0.5))) * np.exp(exponent)\n",
    "\n",
    "    return likelihood\n"
   ]
  },
  {
   "cell_type": "code",
   "execution_count": 163,
   "id": "981a4023",
   "metadata": {},
   "outputs": [
    {
     "data": {
      "text/plain": [
       "array([[1.85243168, 0.14150811],\n",
       "       [0.14150811, 1.0642165 ]])"
      ]
     },
     "execution_count": 163,
     "metadata": {},
     "output_type": "execute_result"
    }
   ],
   "source": [
    "np.cov(train_data.T)"
   ]
  },
  {
   "cell_type": "code",
   "execution_count": 167,
   "id": "604e61ee",
   "metadata": {},
   "outputs": [
    {
     "name": "stdout",
     "output_type": "stream",
     "text": [
      "Accuracy: 0.755\n"
     ]
    }
   ],
   "source": [
    "# Create labels for each class\n",
    "labels = np.concatenate((np.zeros(100), np.ones(100)))\n",
    "\n",
    "# Prior probabilities for each class\n",
    "prior1 = 0.5\n",
    "prior2 = 0.5\n",
    "\n",
    "# Bayesian classifier function\n",
    "def bayesian_classifier_empirical(datapoint):\n",
    "    # Calculate the posterior probabilities\n",
    "    likelihood1 = multivariate_gaussian_likelihood(\n",
    "        datapoint, np.mean(train_data, axis=0), np.cov(train_data.T)\n",
    "    )\n",
    "    likelihood2 = multivariate_gaussian_likelihood(\n",
    "        datapoint, np.mean(test_data, axis=0), np.cov(test_data.T)\n",
    "    )\n",
    "    posterior1 = likelihood1 * prior1\n",
    "    posterior2 = likelihood2 * prior2\n",
    "\n",
    "    # Classify the data point to the class with higher posterior probability\n",
    "    if posterior1 > posterior2:\n",
    "        return 0\n",
    "    else:\n",
    "        return 1\n",
    "\n",
    "# Classify the data\n",
    "predictions = np.array([bayesian_classifier_empirical(x) for x in data])\n",
    "\n",
    "# Calculate accuracy\n",
    "accuracy = np.sum(predictions == labels) / len(labels)\n",
    "\n",
    "print(\"Accuracy:\", accuracy)"
   ]
  },
  {
   "cell_type": "code",
   "execution_count": 191,
   "id": "c5eb0908",
   "metadata": {},
   "outputs": [
    {
     "data": {
      "text/plain": [
       "(200,)"
      ]
     },
     "execution_count": 191,
     "metadata": {},
     "output_type": "execute_result"
    }
   ],
   "source": [
    "labels.shape"
   ]
  },
  {
   "cell_type": "code",
   "execution_count": 168,
   "id": "9f5d5a42",
   "metadata": {},
   "outputs": [],
   "source": [
    "def bayesian_classifier_theorotical(datapoint):\n",
    "    # Calculate the posterior probabilities\n",
    "    likelihood1 = multivariate_gaussian_likelihood(\n",
    "        datapoint, train_mean_vector, train_cov_vector\n",
    "    )\n",
    "    likelihood2 = multivariate_gaussian_likelihood(\n",
    "        datapoint, test_mean_vector, test_cov_vector\n",
    "    )\n",
    "    posterior1 = likelihood1 * prior1\n",
    "    posterior2 = likelihood2 * prior2\n",
    "\n",
    "    # Classify the data point to the class with higher posterior probability\n",
    "    if posterior1 > posterior2:\n",
    "        return 0\n",
    "    else:\n",
    "        return 1"
   ]
  },
  {
   "cell_type": "code",
   "execution_count": 192,
   "id": "f635ebb4",
   "metadata": {},
   "outputs": [
    {
     "data": {
      "image/png": "[encoded data removed]",
      "text/plain": [
       "<Figure size 640x480 with 1 Axes>"
      ]
     },
     "metadata": {},
     "output_type": "display_data"
    }
   ],
   "source": [
    "from matplotlib.colors import ListedColormap\n",
    "\n",
    "# Create a meshgrid to plot the decision boundaries\n",
    "h = 0.02 # Step size in the mesh\n",
    "x_min, x_max = data[:, 0].min() - 1, data[:, 0].max() + 1\n",
    "y_min, y_max = data[:, 1].min() - 1, data[:, 1].max() + 1\n",
    "\n",
    "xx, yy = np.meshgrid(np.arange(x_min, x_max, h), np.arange(y_min, y_max, h))\n",
    "\n",
    "\n",
    "# Classify the meshgrid points using the Bayesian classifier\n",
    "empirical_Z_bayes = np.array([bayesian_classifier_empirical(\n",
    "    np.array([x, y])\n",
    ") for x, y in zip(xx.ravel(), yy.ravel())])\n",
    "\n",
    "empirical_Z_bayes = empirical_Z_bayes.reshape(xx.shape)\n",
    "\n",
    "# # Classify the meshgrid points using the theoretical decision boundary (Quadratic Discriminant Analysis)\n",
    "theoretical_Z_bayes = np.array([bayesian_classifier_theorotical(\n",
    "    np.array([x, y])\n",
    ") for x, y in zip(xx.ravel(), yy.ravel())])\n",
    "\n",
    "theoretical_Z_bayes = theoretical_Z_bayes.reshape(xx.shape)\n",
    "\n",
    "# Create color maps for the decision boundaries\n",
    "cmap_light = ListedColormap(['#FFAAAA', '#AAFFAA'])\n",
    "cmap_bold = ListedColormap(['#FF0000', '#00FF00'])\n",
    "cmap_theoretical = ListedColormap(['#0000FF', '#00FFFF']) # Blue for theoretical\n",
    "\n",
    "plt.contourf(xx, yy, empirical_Z_bayes, cmap=cmap_light, alpha=0.5) # Bayesian (lighter)\n",
    "plt.contour(xx, yy, empirical_Z_bayes, cmap=cmap_bold, alpha=0.7) # Bayesian (darker)\n",
    "\n",
    "plt.contourf(xx, yy, theoretical_Z_bayes, cmap=cmap_theoretical, alpha=0.5) # Theoretical (blue)\n",
    "plt.contour(xx, yy, theoretical_Z_bayes, cmap=cmap_theoretical, alpha=0.7) # Theoretical (blue)\n",
    "\n",
    "# Plot the data points\n",
    "plt.scatter(data[:, 0], data[:, 1], c=labels, cmap=cmap_bold)\n",
    "\n",
    "# Add labels and title\n",
    "plt.xlabel(\"Feature 1\")\n",
    "plt.ylabel(\"Feature 2\")\n",
    "plt.title(\"Decision Boundaries: Empirical, Theoretical\")\n",
    "\n",
    "plt.show()"
   ]
  },
  {
   "cell_type": "code",
   "execution_count": null,
   "id": "98a8e0e3",
   "metadata": {},
   "outputs": [],
   "source": [
    "print(xx.ravel().shape)\n",
    "print(yy.shape)"
   ]
  },
  {
   "cell_type": "code",
   "execution_count": 136,
   "id": "a3e7805d",
   "metadata": {},
   "outputs": [],
   "source": [
    "train_mean_vector2 = [1, 1]\n",
    "train_cov_vector2 = [[2, 0.5], [0.5, 1]]\n",
    "\n",
    "test_mean_vector2 = [3, 2]\n",
    "test_cov_vector2 = [[2, 0], [0, 1]]"
   ]
  },
  {
   "cell_type": "code",
   "execution_count": 137,
   "id": "ec6c8a27",
   "metadata": {},
   "outputs": [],
   "source": [
    "train_data2 = gen_gaussian_data(train_mean_vector2, train_cov_vector2, 100)\n",
    "test_data2 = gen_gaussian_data(test_mean_vector2, test_cov_vector2, 100)"
   ]
  },
  {
   "cell_type": "code",
   "execution_count": 138,
   "id": "82cc9adb",
   "metadata": {},
   "outputs": [
    {
     "data": {
      "text/plain": [
       "array([[ 0.73628932,  0.45520677],\n",
       "       [-0.42337037,  0.72602955],\n",
       "       [-0.42683777,  1.27759951],\n",
       "       [ 1.57956763,  0.11949826],\n",
       "       [ 2.00924751,  1.3178878 ],\n",
       "       [ 0.58680841,  1.4189611 ],\n",
       "       [ 1.84093285, -1.44543182],\n",
       "       [ 1.48293452,  1.98208717],\n",
       "       [-0.00953977, -0.06542293],\n",
       "       [ 1.74944909,  0.9970285 ],\n",
       "       [ 3.31314446,  1.93198492],\n",
       "       [ 3.47290254,  1.10477356],\n",
       "       [-0.25585326,  0.17714059],\n",
       "       [-0.6668637 ,  1.27345769],\n",
       "       [ 2.96087327,  1.8768115 ],\n",
       "       [ 2.36911893,  1.78451018],\n",
       "       [-1.12444694, -1.24950431],\n",
       "       [-1.13185092, -0.17595145],\n",
       "       [ 2.18203079, -0.06585075],\n",
       "       [-2.35944501, -0.94296052],\n",
       "       [ 0.02260289, -1.69853635],\n",
       "       [ 1.76875995,  1.29915782],\n",
       "       [-0.26213128, -0.74354632],\n",
       "       [ 1.23689931,  1.65729689],\n",
       "       [ 1.6484371 ,  1.10885457],\n",
       "       [ 0.35347973, -0.3095986 ],\n",
       "       [ 2.22553091,  0.18268869],\n",
       "       [-1.47602897, -0.95719164],\n",
       "       [ 0.05264228,  2.08247487],\n",
       "       [ 1.50711962,  1.44138029],\n",
       "       [-1.04306189,  0.4710148 ],\n",
       "       [ 1.45569886,  2.02180711],\n",
       "       [-0.28277636,  0.54178817],\n",
       "       [ 1.51566059,  2.19524574],\n",
       "       [ 2.95184405,  1.2028671 ],\n",
       "       [ 0.12413085,  1.69951978],\n",
       "       [-0.15762416,  0.34380361],\n",
       "       [ 0.46604916,  2.18555152],\n",
       "       [ 0.06936521,  1.20840859],\n",
       "       [ 1.56837515,  2.3167223 ],\n",
       "       [ 0.79707242,  1.56390225],\n",
       "       [ 0.54935036,  1.78593582],\n",
       "       [ 1.6690003 ,  1.35537299],\n",
       "       [ 0.95255313, -0.06404967],\n",
       "       [-1.53138219, -0.23676477],\n",
       "       [ 0.96685615, -0.75600617],\n",
       "       [ 1.59306415,  2.86484589],\n",
       "       [ 3.94919936,  1.03959668],\n",
       "       [ 0.90698035,  1.96142136],\n",
       "       [-1.08036487,  0.41582888],\n",
       "       [ 1.91624629,  2.40899443],\n",
       "       [ 3.46316144,  1.85922896],\n",
       "       [-0.56058875,  1.12781382],\n",
       "       [ 1.81594437, -0.24771923],\n",
       "       [ 2.11132313,  2.16478968],\n",
       "       [-0.00751347,  0.67303767],\n",
       "       [-1.16341761,  0.72363605],\n",
       "       [ 0.23609868,  1.14650345],\n",
       "       [ 0.10414349, -0.56319964],\n",
       "       [ 1.13709159,  0.5608883 ],\n",
       "       [ 2.49426343,  1.37934964],\n",
       "       [ 0.05097733,  0.11071632],\n",
       "       [-0.74800264,  0.05867324],\n",
       "       [-0.09438651, -0.08047499],\n",
       "       [ 1.40985072,  1.82371876],\n",
       "       [-1.96241737, -1.34913105],\n",
       "       [-0.49868598, -0.82826264],\n",
       "       [ 0.64021032,  1.75366727],\n",
       "       [ 0.01301122,  2.45156532],\n",
       "       [ 0.54034814, -0.56410309],\n",
       "       [ 1.65961882,  0.85184808],\n",
       "       [-0.90959185, -1.08086605],\n",
       "       [-1.9962911 ,  0.10810021],\n",
       "       [ 1.67470636,  1.56955052],\n",
       "       [ 2.54982993,  0.21510946],\n",
       "       [-0.22723271, -0.86329199],\n",
       "       [-0.46368217,  1.82440463],\n",
       "       [ 0.95148281,  0.84544067],\n",
       "       [ 0.8670575 , -0.58989632],\n",
       "       [-0.49741191, -0.50124851],\n",
       "       [ 0.8838339 ,  0.92999476],\n",
       "       [ 1.89624358,  2.61748214],\n",
       "       [ 0.98250399, -0.10375434],\n",
       "       [ 0.87479602,  3.03268054],\n",
       "       [-0.70038531,  1.20244068],\n",
       "       [ 1.68579968,  0.86607099],\n",
       "       [ 1.98007168,  1.25614561],\n",
       "       [ 0.22570941, -0.23828078],\n",
       "       [ 0.6999303 ,  0.9291903 ],\n",
       "       [ 2.5230959 ,  0.41872507],\n",
       "       [ 1.55246357, -0.05891705],\n",
       "       [ 1.74780968,  2.19743949],\n",
       "       [ 1.24205681, -1.29670629],\n",
       "       [ 0.19165545,  1.46336449],\n",
       "       [ 0.52917838,  0.85467621],\n",
       "       [ 2.17566558,  1.78741703],\n",
       "       [ 0.27031836,  0.66615151],\n",
       "       [ 2.29298649,  3.26607142],\n",
       "       [ 2.22871143,  1.87108112],\n",
       "       [ 2.05950908, -0.23661809]])"
      ]
     },
     "execution_count": 138,
     "metadata": {},
     "output_type": "execute_result"
    }
   ],
   "source": [
    "train_data2"
   ]
  },
  {
   "cell_type": "code",
   "execution_count": 139,
   "id": "3c1db5f5",
   "metadata": {},
   "outputs": [
    {
     "data": {
      "text/plain": [
       "array([[ 0.54013476,  1.51647599],\n",
       "       [ 2.53518997,  1.39604272],\n",
       "       [ 3.60885864,  3.29013762],\n",
       "       [ 0.62652165,  0.50208189],\n",
       "       [ 4.06291412,  2.42809054],\n",
       "       [ 6.18073651,  1.71238286],\n",
       "       [ 4.02023325,  0.61643865],\n",
       "       [ 1.37551635,  1.93275339],\n",
       "       [ 3.08933892,  0.96755395],\n",
       "       [ 3.21357108,  2.89119954],\n",
       "       [ 2.6777111 ,  1.02561743],\n",
       "       [ 4.01351936,  2.2671631 ],\n",
       "       [ 3.36830619,  0.03194472],\n",
       "       [ 6.10466371,  2.95702922],\n",
       "       [ 3.35690693,  1.93116057],\n",
       "       [ 1.57222499,  2.41910458],\n",
       "       [-0.51814799,  1.62151499],\n",
       "       [ 2.62697421,  2.77907856],\n",
       "       [ 1.7879033 ,  1.76524072],\n",
       "       [ 2.10980657,  1.64036769],\n",
       "       [ 4.67317597,  0.19179552],\n",
       "       [ 0.88922301,  0.98811783],\n",
       "       [ 2.52765897,  2.10474913],\n",
       "       [ 3.52390353,  3.2723686 ],\n",
       "       [ 4.32537582,  4.21712362],\n",
       "       [ 6.58701046,  1.89095712],\n",
       "       [ 0.86955005,  3.16139285],\n",
       "       [ 3.5592304 ,  2.06175541],\n",
       "       [ 2.54972501,  3.0574644 ],\n",
       "       [ 4.29691593,  3.69950339],\n",
       "       [ 0.01384102,  1.50099213],\n",
       "       [ 0.59930576,  2.80830645],\n",
       "       [ 4.56447351,  2.85272244],\n",
       "       [ 4.55296034,  2.53449975],\n",
       "       [ 0.85227322,  0.93919209],\n",
       "       [ 0.60983625, -0.07193685],\n",
       "       [ 0.92511083,  1.39550063],\n",
       "       [ 3.82187911,  2.21166144],\n",
       "       [ 2.67296252,  2.31920541],\n",
       "       [ 3.01362535,  2.14425141],\n",
       "       [ 5.8969288 ,  1.81121858],\n",
       "       [ 5.56121353,  1.65384185],\n",
       "       [ 4.38888925,  2.50281773],\n",
       "       [ 4.09887815,  1.84754673],\n",
       "       [ 4.04352272,  1.64909021],\n",
       "       [ 4.39676321,  2.94119133],\n",
       "       [ 4.12662358,  1.07957433],\n",
       "       [ 2.92885235,  1.53800712],\n",
       "       [ 2.73389514,  0.99714925],\n",
       "       [ 1.74566149,  2.62476261],\n",
       "       [ 4.35040726,  1.7401004 ],\n",
       "       [ 3.89452027,  1.09639472],\n",
       "       [ 4.15947044,  1.58504484],\n",
       "       [ 3.03502637,  1.4686479 ],\n",
       "       [ 0.61613802,  3.5989408 ],\n",
       "       [ 4.87011232,  1.66780597],\n",
       "       [ 2.80846941,  1.06520922],\n",
       "       [ 1.37396824,  2.18325244],\n",
       "       [ 1.9547073 ,  2.65483667],\n",
       "       [ 5.0164576 ,  0.20867697],\n",
       "       [ 2.78634391,  3.36919971],\n",
       "       [ 3.81225449,  1.17946225],\n",
       "       [ 2.00286901,  1.91500546],\n",
       "       [ 3.29615859,  2.30065271],\n",
       "       [ 2.83205727,  1.31408834],\n",
       "       [ 3.86115127,  1.58844734],\n",
       "       [ 3.65147238,  3.32385444],\n",
       "       [ 1.94859205,  2.11305148],\n",
       "       [ 3.8573709 ,  1.22397689],\n",
       "       [ 5.25728173,  1.92057249],\n",
       "       [ 3.80839515,  1.8401707 ],\n",
       "       [ 2.75622659,  2.77877902],\n",
       "       [ 1.80404641,  0.63856334],\n",
       "       [ 4.22856336,  3.29458699],\n",
       "       [ 0.5379713 ,  2.45644419],\n",
       "       [ 4.38911534,  0.77892055],\n",
       "       [ 3.73957036,  0.97649273],\n",
       "       [ 2.71846118,  4.05504365],\n",
       "       [ 3.81938319,  1.97431742],\n",
       "       [ 3.52485089,  1.42576618],\n",
       "       [ 1.58325568,  0.27448154],\n",
       "       [ 2.47578455,  1.09756212],\n",
       "       [ 3.08204875,  0.98112802],\n",
       "       [ 0.53809186,  1.33979943],\n",
       "       [ 4.0561664 ,  0.27714284],\n",
       "       [ 3.40546772,  2.40901968],\n",
       "       [ 5.78000617,  1.81805131],\n",
       "       [ 4.6467582 ,  1.03952782],\n",
       "       [ 5.33864475,  0.02798238],\n",
       "       [ 6.76080456,  3.6500816 ],\n",
       "       [ 0.84943332,  0.92271831],\n",
       "       [ 2.00564766,  2.4634905 ],\n",
       "       [ 4.20161795,  2.49928728],\n",
       "       [ 1.54560052,  2.67187363],\n",
       "       [ 1.78146465,  1.76256647],\n",
       "       [ 3.14267013,  4.00100993],\n",
       "       [ 2.96799085,  0.36082487],\n",
       "       [ 1.24170577,  2.48968421],\n",
       "       [ 3.31785785,  1.85841035],\n",
       "       [ 4.44588572,  2.72200677]])"
      ]
     },
     "execution_count": 139,
     "metadata": {},
     "output_type": "execute_result"
    }
   ],
   "source": [
    "test_data2"
   ]
  },
  {
   "cell_type": "code",
   "execution_count": 140,
   "id": "ba866fd9",
   "metadata": {},
   "outputs": [
    {
     "data": {
      "text/plain": [
       "0.8025049120678139"
      ]
     },
     "execution_count": 140,
     "metadata": {},
     "output_type": "execute_result"
    }
   ],
   "source": [
    "train_m_x2 = sum([x[0] for x in train_data2]) / 100\n",
    "train_m_x2"
   ]
  },
  {
   "cell_type": "code",
   "execution_count": 141,
   "id": "f3235059",
   "metadata": {},
   "outputs": [
    {
     "data": {
      "text/plain": [
       "0.7909114531712779"
      ]
     },
     "execution_count": 141,
     "metadata": {},
     "output_type": "execute_result"
    }
   ],
   "source": [
    "train_m_y2 = sum([x[1] for x in train_data2]) / 100\n",
    "train_m_y2"
   ]
  },
  {
   "cell_type": "code",
   "execution_count": 142,
   "id": "41277170",
   "metadata": {},
   "outputs": [
    {
     "data": {
      "text/plain": [
       "1.7079742670882407"
      ]
     },
     "execution_count": 142,
     "metadata": {},
     "output_type": "execute_result"
    }
   ],
   "source": [
    "train_var_x2 = sum([(x[0] - train_m_x2) ** 2 for x in train_data2]) / 100\n",
    "train_var_x2"
   ]
  },
  {
   "cell_type": "code",
   "execution_count": 143,
   "id": "d5e43e0c",
   "metadata": {},
   "outputs": [
    {
     "data": {
      "text/plain": [
       "1.2405373192854017"
      ]
     },
     "execution_count": 143,
     "metadata": {},
     "output_type": "execute_result"
    }
   ],
   "source": [
    "train_var_y2 = sum([(x[1] - train_m_y2) ** 2 for x in train_data2]) / 100\n",
    "train_var_y2"
   ]
  },
  {
   "cell_type": "code",
   "execution_count": 144,
   "id": "41f4f960",
   "metadata": {},
   "outputs": [
    {
     "data": {
      "text/plain": [
       "3.1158046459108424"
      ]
     },
     "execution_count": 144,
     "metadata": {},
     "output_type": "execute_result"
    }
   ],
   "source": [
    "test_m_x2 = sum([x[0] for x in test_data2]) / 100\n",
    "test_m_x2"
   ]
  },
  {
   "cell_type": "code",
   "execution_count": 145,
   "id": "dd3c4242",
   "metadata": {},
   "outputs": [
    {
     "data": {
      "text/plain": [
       "1.9001915610751596"
      ]
     },
     "execution_count": 145,
     "metadata": {},
     "output_type": "execute_result"
    }
   ],
   "source": [
    "test_m_y2 = sum([x[1] for x in test_data2]) / 100\n",
    "test_m_y2"
   ]
  },
  {
   "cell_type": "code",
   "execution_count": 146,
   "id": "dc13d33e",
   "metadata": {},
   "outputs": [
    {
     "data": {
      "text/plain": [
       "2.416404467787065"
      ]
     },
     "execution_count": 146,
     "metadata": {},
     "output_type": "execute_result"
    }
   ],
   "source": [
    "test_var_x2 = sum([(x[0] - test_m_x2) ** 2 for x in test_data2]) / 100\n",
    "test_var_x2"
   ]
  },
  {
   "cell_type": "code",
   "execution_count": 147,
   "id": "7b781508",
   "metadata": {},
   "outputs": [
    {
     "data": {
      "text/plain": [
       "0.9369922024413505"
      ]
     },
     "execution_count": 147,
     "metadata": {},
     "output_type": "execute_result"
    }
   ],
   "source": [
    "test_var_y2 = sum([(x[1] - test_m_y2) ** 2 for x in test_data2]) / 100\n",
    "test_var_y2"
   ]
  },
  {
   "cell_type": "code",
   "execution_count": 193,
   "id": "00a71665",
   "metadata": {},
   "outputs": [],
   "source": [
    "new_train_data2 = gen_gaussian_data(train_mean_vector2, train_cov_vector2, 50)\n",
    "new_test_data2 = gen_gaussian_data(test_mean_vector2, test_cov_vector2, 50)"
   ]
  },
  {
   "cell_type": "code",
   "execution_count": 194,
   "id": "013b7388",
   "metadata": {},
   "outputs": [
    {
     "data": {
      "text/plain": [
       "1.1698418781157656"
      ]
     },
     "execution_count": 194,
     "metadata": {},
     "output_type": "execute_result"
    }
   ],
   "source": [
    "new_train_m_x2 = sum([x[0] for x in new_train_data2]) / 50\n",
    "new_train_m_x2"
   ]
  },
  {
   "cell_type": "code",
   "execution_count": 197,
   "id": "da5703e8",
   "metadata": {},
   "outputs": [
    {
     "data": {
      "text/plain": [
       "0.8937831846035007"
      ]
     },
     "execution_count": 197,
     "metadata": {},
     "output_type": "execute_result"
    }
   ],
   "source": [
    "new_train_m_y2 = sum([x[1] for x in new_train_data2]) / 50\n",
    "new_train_m_y2"
   ]
  },
  {
   "cell_type": "code",
   "execution_count": 198,
   "id": "8071e31c",
   "metadata": {},
   "outputs": [
    {
     "data": {
      "text/plain": [
       "1.6084844676257695"
      ]
     },
     "execution_count": 198,
     "metadata": {},
     "output_type": "execute_result"
    }
   ],
   "source": [
    "new_train_var_x2 = sum([(x[0] - new_train_m_x2) ** 2 for x in new_train_data2]) / 50\n",
    "new_train_var_x2"
   ]
  },
  {
   "cell_type": "code",
   "execution_count": 199,
   "id": "2b738c27",
   "metadata": {},
   "outputs": [
    {
     "data": {
      "text/plain": [
       "0.785584476615371"
      ]
     },
     "execution_count": 199,
     "metadata": {},
     "output_type": "execute_result"
    }
   ],
   "source": [
    "new_train_var_y2 = sum([(x[1] - new_train_m_y2) ** 2 for x in new_train_data2]) / 50\n",
    "new_train_var_y2"
   ]
  },
  {
   "cell_type": "code",
   "execution_count": 200,
   "id": "ee82e74e",
   "metadata": {},
   "outputs": [
    {
     "data": {
      "text/plain": [
       "2.870748614701471"
      ]
     },
     "execution_count": 200,
     "metadata": {},
     "output_type": "execute_result"
    }
   ],
   "source": [
    "new_test_m_x2 = sum([x[0] for x in new_test_data2]) / 50\n",
    "new_test_m_x2"
   ]
  },
  {
   "cell_type": "code",
   "execution_count": 201,
   "id": "9a6ea553",
   "metadata": {},
   "outputs": [
    {
     "data": {
      "text/plain": [
       "2.081742962307898"
      ]
     },
     "execution_count": 201,
     "metadata": {},
     "output_type": "execute_result"
    }
   ],
   "source": [
    "new_test_m_y2 = sum([x[1] for x in new_test_data2]) / 50\n",
    "new_test_m_y2"
   ]
  },
  {
   "cell_type": "code",
   "execution_count": 202,
   "id": "1c0f988e",
   "metadata": {},
   "outputs": [
    {
     "data": {
      "text/plain": [
       "2.399751412633327"
      ]
     },
     "execution_count": 202,
     "metadata": {},
     "output_type": "execute_result"
    }
   ],
   "source": [
    "new_test_var_x2 = sum([(x[0] - new_test_m_x2) ** 2 for x in new_test_data2]) / 50\n",
    "new_test_var_x2"
   ]
  },
  {
   "cell_type": "code",
   "execution_count": 203,
   "id": "a45fb667",
   "metadata": {},
   "outputs": [
    {
     "data": {
      "text/plain": [
       "0.7632699067758969"
      ]
     },
     "execution_count": 203,
     "metadata": {},
     "output_type": "execute_result"
    }
   ],
   "source": [
    "new_test_var_y2 = sum([(x[1] - new_test_m_y2) ** 2 for x in new_test_data2]) / 50\n",
    "new_test_var_y2"
   ]
  },
  {
   "cell_type": "code",
   "execution_count": 173,
   "id": "651837e6",
   "metadata": {},
   "outputs": [
    {
     "name": "stdout",
     "output_type": "stream",
     "text": [
      "Accuracy: 0.815\n"
     ]
    }
   ],
   "source": [
    "data2 = np.concatenate((train_data2, test_data2))\n",
    "\n",
    "def bayesian_classifier_empirical2(datapoint):\n",
    "    # Calculate the posterior probabilities\n",
    "    likelihood1 = multivariate_gaussian_likelihood(\n",
    "        datapoint, np.mean(train_data2, axis=0), np.cov(train_data2.T)\n",
    "    )\n",
    "    likelihood2 = multivariate_gaussian_likelihood(\n",
    "        datapoint, np.mean(test_data2, axis=0), np.cov(test_data2.T)\n",
    "    )\n",
    "    posterior1 = likelihood1 * prior1\n",
    "    posterior2 = likelihood2 * prior2\n",
    "\n",
    "    # Classify the data point to the class with higher posterior probability\n",
    "    if posterior1 > posterior2:\n",
    "        return 0\n",
    "    else:\n",
    "        return 1\n",
    "\n",
    "# Classify the data\n",
    "predictions2 = np.array([bayesian_classifier_empirical2(x) for x in data2])\n",
    "\n",
    "# Calculate accuracy\n",
    "accuracy2 = np.sum(predictions2 == labels) / len(labels)\n",
    "\n",
    "print(\"Accuracy:\", accuracy2)"
   ]
  },
  {
   "cell_type": "code",
   "execution_count": 174,
   "id": "06599668",
   "metadata": {},
   "outputs": [],
   "source": [
    "def bayesian_classifier_theoretical2(datapoint):\n",
    "    # Calculate the posterior probabilities\n",
    "    likelihood1 = multivariate_gaussian_likelihood(\n",
    "        datapoint, train_mean_vector2, train_cov_vector2\n",
    "    )\n",
    "    likelihood2 = multivariate_gaussian_likelihood(\n",
    "        datapoint, test_mean_vector2, test_cov_vector2\n",
    "    )\n",
    "    posterior1 = likelihood1 * prior1\n",
    "    posterior2 = likelihood2 * prior2\n",
    "\n",
    "    # Classify the data point to the class with higher posterior probability\n",
    "    if posterior1 > posterior2:\n",
    "        return 0\n",
    "    else:\n",
    "        return 1"
   ]
  },
  {
   "cell_type": "code",
   "execution_count": 176,
   "id": "9049b9ea",
   "metadata": {},
   "outputs": [
    {
     "data": {
      "image/png": "[encoded data removed]",
      "text/plain": [
       "<Figure size 640x480 with 1 Axes>"
      ]
     },
     "metadata": {},
     "output_type": "display_data"
    }
   ],
   "source": [
    "from matplotlib.colors import ListedColormap\n",
    "from sklearn.discriminant_analysis import QuadraticDiscriminantAnalysis\n",
    "\n",
    "# Create a meshgrid to plot the decision boundaries\n",
    "h = 0.02 # Step size in the mesh\n",
    "x_min, x_max = data2[:, 0].min() - 1, data2[:, 0].max() + 1\n",
    "y_min, y_max = data2[:, 1].min() - 1, data2[:, 1].max() + 1\n",
    "\n",
    "xx, yy = np.meshgrid(np.arange(x_min, x_max, h), np.arange(y_min, y_max, h))\n",
    "\n",
    "\n",
    "# Classify the meshgrid points using the Bayesian classifier\n",
    "empirical_Z_bayes2 = np.array([bayesian_classifier_empirical2(\n",
    "    np.array([x, y])\n",
    ") for x, y in zip(xx.ravel(), yy.ravel())])\n",
    "\n",
    "empirical_Z_bayes2 = empirical_Z_bayes2.reshape(xx.shape)\n",
    "\n",
    "# # Classify the meshgrid points using the theoretical decision boundary (Quadratic Discriminant Analysis)\n",
    "theoretical_Z_bayes2 = np.array([bayesian_classifier_theoretical2(\n",
    "    np.array([x, y])\n",
    ") for x, y in zip(xx.ravel(), yy.ravel())])\n",
    "\n",
    "theoretical_Z_bayes2 = theoretical_Z_bayes2.reshape(xx.shape)\n",
    "\n",
    "# Create color maps for the decision boundaries\n",
    "cmap_light = ListedColormap(['#FFAAAA', '#AAFFAA'])\n",
    "cmap_bold = ListedColormap(['#FF0000', '#00FF00'])\n",
    "cmap_theoretical = ListedColormap(['#0000FF', '#00FFFF']) # Blue for theoretical\n",
    "\n",
    "plt.contourf(xx, yy, empirical_Z_bayes2, cmap=cmap_light, alpha=0.5) # Bayesian (lighter)\n",
    "plt.contour(xx, yy, empirical_Z_bayes2, cmap=cmap_bold, alpha=0.7) # Bayesian (darker)\n",
    "\n",
    "plt.contourf(xx, yy, theoretical_Z_bayes2, cmap=cmap_theoretical, alpha=0.5) # Theoretical (blue)\n",
    "plt.contour(xx, yy, theoretical_Z_bayes2, cmap=cmap_theoretical, alpha=0.7) # Theoretical (blue)\n",
    "\n",
    "# Plot the data points\n",
    "plt.scatter(data[:, 0], data[:, 1], c=labels, cmap=cmap_bold)\n",
    "\n",
    "# Add labels and title\n",
    "plt.xlabel(\"Feature 1\")\n",
    "plt.ylabel(\"Feature 2\")\n",
    "plt.title(\"Decision Boundaries: Empirical, Theoretical\")\n",
    "\n",
    "plt.show()"
   ]
  },
  {
   "cell_type": "code",
   "execution_count": null,
   "id": "9008dd26",
   "metadata": {},
   "outputs": [],
   "source": []
  }
 ],
 "metadata": {
  "kernelspec": {
   "display_name": "Python 3 (ipykernel)",
   "language": "python",
   "name": "python3"
  },
  "language_info": {
   "codemirror_mode": {
    "name": "ipython",
    "version": 3
   },
   "file_extension": ".py",
   "mimetype": "text/x-python",
   "name": "python",
   "nbconvert_exporter": "python",
   "pygments_lexer": "ipython3",
   "version": "3.9.13"
  }
 },
 "nbformat": 4,
 "nbformat_minor": 5
}
