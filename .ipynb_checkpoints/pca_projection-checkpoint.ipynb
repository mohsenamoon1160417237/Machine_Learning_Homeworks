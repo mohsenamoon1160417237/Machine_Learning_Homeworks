{
 "cells": [
  {
   "cell_type": "code",
   "execution_count": null,
   "id": "849d0bf4",
   "metadata": {},
   "outputs": [],
   "source": [
    "محسن آمون ۴۰۳۰۲۵۲۴"
   ]
  },
  {
   "cell_type": "code",
   "execution_count": 219,
   "id": "b2271c04",
   "metadata": {},
   "outputs": [],
   "source": [
    "import os\n",
    "import warnings\n",
    "\n",
    "import matplotlib.pyplot as plt\n",
    "import numpy as np\n",
    "import pandas as pd\n",
    "from sklearn.preprocessing import StandardScaler\n",
    "from sklearn.decomposition import PCA\n",
    "from sklearn.metrics import mean_squared_error"
   ]
  },
  {
   "cell_type": "code",
   "execution_count": 220,
   "id": "c8e5cb6b",
   "metadata": {},
   "outputs": [],
   "source": [
    "warnings.filterwarnings(\"ignore\")"
   ]
  },
  {
   "cell_type": "code",
   "execution_count": 221,
   "id": "ac0d9c9a",
   "metadata": {},
   "outputs": [],
   "source": [
    "base_dir = os.getcwd()"
   ]
  },
  {
   "cell_type": "code",
   "execution_count": 222,
   "id": "b7f2bcd5",
   "metadata": {},
   "outputs": [],
   "source": [
    "features = ['Sepal.Length', 'Sepal.Width', 'Petal.Length', 'Petal.Width']\n",
    "\n",
    "scaler = StandardScaler()"
   ]
  },
  {
   "cell_type": "code",
   "execution_count": 223,
   "id": "22a3dad2",
   "metadata": {},
   "outputs": [
    {
     "name": "stdout",
     "output_type": "stream",
     "text": [
      "[[-0.89442719]\n",
      " [ 0.4472136 ]]\n",
      "2\n"
     ]
    },
    {
     "data": {
      "text/plain": [
       "array([-0.89442719,  0.4472136 ])"
      ]
     },
     "execution_count": 223,
     "metadata": {},
     "output_type": "execute_result"
    }
   ],
   "source": [
    "mat = np.array([[1, 2], [3, 6]])\n",
    "# shape = mat.shape[0]\n",
    "# identity = np.identity(shape)\n",
    "# print(mat - identity)\n",
    "# poly = np.poly(mat - identity)\n",
    "# roots = np.roots(poly)\n",
    "U, s , V = np.linalg.svd(mat)\n",
    "# Find the rank of matrix based on singular values close to zero.\n",
    "rank = np.sum(s > 1e-10)\n",
    "# Adjust the threshold (1e - 10) as needed\n",
    "# print(U, s, V)\n",
    "null = V[rank:, :].T\n",
    "print(null)\n",
    "print(null.size)\n",
    "null[:, 0]"
   ]
  },
  {
   "cell_type": "code",
   "execution_count": 224,
   "id": "6eb2e379",
   "metadata": {},
   "outputs": [],
   "source": [
    "import numpy as np\n",
    "\n",
    "def calculate_eigenvalues_eigenvectors(matrix): # not worked\n",
    "\n",
    "    # 1. Calculate the characteristic polynomial\n",
    "    n = matrix.shape[0] # Dimension of the matrix\n",
    "    identity = np.identity(n)\n",
    "    characteristic_polynomial = np.poly(matrix - identity) \n",
    "    # calculates the polynomial coefficients from the array. the array contains the roots of the polynomial.\n",
    "\n",
    "    # 2. Find the roots of the characteristic polynomial (eigenvalues)\n",
    "    eigenvalues = np.roots(characteristic_polynomial)\n",
    "\n",
    "    # 3. Calculate eigenvectors for each eigenvalue\n",
    "    eigenvectors = []\n",
    "    for eigenvalue in eigenvalues:\n",
    "        # Solve (matrix - eigenvalue * I) * v = 0 for v (eigenvector)\n",
    "        A_minus_lambda_I = matrix - eigenvalue * identity\n",
    "        U, s, V = np.linalg.svd(A_minus_lambda_I)\n",
    "        # Find the rank of matrix based on singular values close to zero.\n",
    "        rank = np.sum(s > 1e-10)\n",
    "        # Adjust the threshold (1e - 10) as needed\n",
    "        null_space_basis = V[rank:, :].T # Extract the null. basis from V\n",
    "        if null_space_basis.size > 0:\n",
    "            eigenvectors.append(null_space_basis[:, 0]) # Take the first vector from the nullspace\n",
    "        else:\n",
    "          # No eigenvector found for this eigenvalue (likely degenerate case)\n",
    "            eigenvectors.append(None)\n",
    "\n",
    "    return np.array(eigenvalues), np.array(eigenvectors).T # Transpose for consistent shape"
   ]
  },
  {
   "cell_type": "code",
   "execution_count": 225,
   "id": "53eb118b",
   "metadata": {},
   "outputs": [],
   "source": [
    "def pca_manual_without_noise(data_path: str):\n",
    "    data = pd.read_csv(f'{base_dir}/iris.csv')\n",
    "    target_df = pd.read_csv(f'{base_dir}/{data_path}')\n",
    "    # 1. Center the data\n",
    "    mean_vector = np.mean(data, axis=0)\n",
    "    target_mean_vector = np.mean(target_df, axis=0)\n",
    "    centered_data = data - mean_vector\n",
    "    target_centered_data = target_df - target_mean_vector\n",
    "    \n",
    "    target_mean_df = pd.DataFrame(\n",
    "        np.repeat(target_mean_vector.values.reshape(1, -1), len(data), axis=0), columns=['X1', 'X2', 'X3', 'X4']\n",
    "    )\n",
    "    zero_mse = mean_squared_error(data, target_mean_df)\n",
    "    print(f\"MSE with 0 principal components: {zero_mse}\")\n",
    "\n",
    "    # 2. Calculate the covariance matrix\n",
    "    covariance_matrix = np.cov(centered_data.T)\n",
    "    \n",
    "    # 3. Calculate eigenvalues and eigenvectors\n",
    "    eigenvalues, eigenvectors = np.linalg.eig(covariance_matrix)\n",
    "\n",
    "    # 4. Sort eigenvectors by decreasing eigenvalue\n",
    "    sorted_indices = np.argsort(eigenvalues)[::-1]\n",
    "    sorted_eigenvalues = eigenvalues[sorted_indices]\n",
    "    sorted_eigenvectors = eigenvectors[:, sorted_indices]\n",
    "    \n",
    "    for n_components in range(1, 5):\n",
    "        # 5. Select top n_components eigenvectors\n",
    "        selected_eigenvectors = sorted_eigenvectors[:, :n_components]\n",
    "#         print(\"centered data:\\n\" + str(centered_data))\n",
    "#         print(\"selected vectors:\\n\" + str(selected_eigenvectors.T))\n",
    "\n",
    "        # 6. Project the data onto the principal components\n",
    "        projected_data = target_centered_data @ selected_eigenvectors\n",
    "#         print(\"\\nProjected data:\\n\")\n",
    "#         print(projected_data)\n",
    "        reconstructed_data = projected_data @ selected_eigenvectors.T\n",
    "        reconstructed_df = pd.DataFrame(data=reconstructed_data, columns=['X1', 'X2', 'X3', 'X4'])\n",
    "#         print(main_df)\n",
    "        mse = mean_squared_error(data, reconstructed_data)\n",
    "#         print(reconstructed_data)\n",
    "        print(f\"MSE with {n_components} principal components: {mse}\")"
   ]
  },
  {
   "cell_type": "code",
   "execution_count": 226,
   "id": "44dd8fb8",
   "metadata": {},
   "outputs": [
    {
     "name": "stdout",
     "output_type": "stream",
     "text": [
      "MSE with 0 principal components: 1.137384748177622\n",
      "MSE with 1 principal components: 14.922743539497773\n",
      "MSE with 2 principal components: 14.940428753741996\n",
      "MSE with 3 principal components: 14.988561324295139\n",
      "MSE with 4 principal components: 15.040346382947158\n"
     ]
    }
   ],
   "source": [
    "pca_manual_without_noise('dataI.csv')"
   ]
  },
  {
   "cell_type": "code",
   "execution_count": 227,
   "id": "3d476f48",
   "metadata": {},
   "outputs": [
    {
     "name": "stdout",
     "output_type": "stream",
     "text": [
      "MSE with 0 principal components: 1.1393682409846055\n",
      "MSE with 1 principal components: 15.085789579912925\n",
      "MSE with 2 principal components: 15.25438726176795\n",
      "MSE with 3 principal components: 15.422207552502432\n",
      "MSE with 4 principal components: 15.672768358843763\n"
     ]
    }
   ],
   "source": [
    "pca_manual_without_noise('dataII.csv')"
   ]
  },
  {
   "cell_type": "code",
   "execution_count": 228,
   "id": "e66801b2",
   "metadata": {},
   "outputs": [
    {
     "name": "stdout",
     "output_type": "stream",
     "text": [
      "MSE with 0 principal components: 1.1415496666666671\n",
      "MSE with 1 principal components: 14.958330721332882\n",
      "MSE with 2 principal components: 14.964729816296606\n",
      "MSE with 3 principal components: 15.003813267775332\n",
      "MSE with 4 principal components: 15.055767000000005\n"
     ]
    }
   ],
   "source": [
    "pca_manual_without_noise('dataIII.csv')"
   ]
  },
  {
   "cell_type": "code",
   "execution_count": 229,
   "id": "58716a8d",
   "metadata": {},
   "outputs": [
    {
     "name": "stdout",
     "output_type": "stream",
     "text": [
      "MSE with 0 principal components: 1.2299820000000001\n",
      "MSE with 1 principal components: 15.198892437288386\n",
      "MSE with 2 principal components: 15.508145010537561\n",
      "MSE with 3 principal components: 15.807874077550567\n",
      "MSE with 4 principal components: 15.953651333333324\n"
     ]
    }
   ],
   "source": [
    "pca_manual_without_noise('dataIV.csv')"
   ]
  },
  {
   "cell_type": "code",
   "execution_count": 230,
   "id": "8cbedc6d",
   "metadata": {},
   "outputs": [
    {
     "name": "stdout",
     "output_type": "stream",
     "text": [
      "MSE with 0 principal components: 1.135779757268974\n",
      "MSE with 1 principal components: 14.859030466630992\n",
      "MSE with 2 principal components: 14.807023035690788\n",
      "MSE with 3 principal components: 14.798565369397114\n",
      "MSE with 4 principal components: 14.803246499847148\n"
     ]
    }
   ],
   "source": [
    "pca_manual_without_noise('dataV.csv')"
   ]
  },
  {
   "cell_type": "code",
   "execution_count": 231,
   "id": "41f29f39",
   "metadata": {},
   "outputs": [],
   "source": [
    "def pca_manual_with_noise(data_path: str):\n",
    "    data = pd.read_csv(f'{base_dir}/iris.csv')\n",
    "    target_df = pd.read_csv(f'{base_dir}/{data_path}')\n",
    "    # 1. Center the data\n",
    "    target_mean_vector = np.mean(target_df, axis=0)\n",
    "    target_centered_data = target_df - target_mean_vector\n",
    "    \n",
    "    target_mean_df = pd.DataFrame(\n",
    "        np.repeat(target_mean_vector.values.reshape(1, -1), len(data), axis=0), columns=['X1', 'X2', 'X3', 'X4']\n",
    "    )\n",
    "    zero_mse = mean_squared_error(data, target_mean_df)\n",
    "    print(f\"MSE with 0 principal components: {zero_mse}\")\n",
    "\n",
    "    # 2. Calculate the covariance matrix\n",
    "    covariance_matrix = np.cov(target_centered_data.T)\n",
    "    \n",
    "    # 3. Calculate eigenvalues and eigenvectors\n",
    "    eigenvalues, eigenvectors = np.linalg.eig(covariance_matrix)\n",
    "\n",
    "    # 4. Sort eigenvectors by decreasing eigenvalue\n",
    "    sorted_indices = np.argsort(eigenvalues)[::-1]\n",
    "    sorted_eigenvalues = eigenvalues[sorted_indices]\n",
    "    sorted_eigenvectors = eigenvectors[:, sorted_indices]\n",
    "    \n",
    "    for n_components in range(1, 5):\n",
    "        # 5. Select top n_components eigenvectors\n",
    "        selected_eigenvectors = sorted_eigenvectors[:, :n_components]\n",
    "#         print(\"centered data:\\n\" + str(centered_data))\n",
    "#         print(\"selected vectors:\\n\" + str(selected_eigenvectors.T))\n",
    "\n",
    "        # 6. Project the data onto the principal components\n",
    "        projected_data = target_centered_data @ selected_eigenvectors\n",
    "#         print(\"\\nProjected data:\\n\")\n",
    "#         print(projected_data)\n",
    "        reconstructed_data = projected_data @ selected_eigenvectors.T\n",
    "        reconstructed_df = pd.DataFrame(data=reconstructed_data, columns=['X1', 'X2', 'X3', 'X4'])\n",
    "#         print(main_df)\n",
    "        mse = mean_squared_error(data, reconstructed_data)\n",
    "#         print(reconstructed_data)\n",
    "        print(f\"MSE with {n_components} principal components: {mse}\")"
   ]
  },
  {
   "cell_type": "code",
   "execution_count": 232,
   "id": "c0e1179d",
   "metadata": {},
   "outputs": [
    {
     "name": "stdout",
     "output_type": "stream",
     "text": [
      "MSE with 0 principal components: 1.137384748177622\n",
      "MSE with 1 principal components: 14.923592445585568\n",
      "MSE with 2 principal components: 14.94908720074841\n",
      "MSE with 3 principal components: 14.996925123322864\n",
      "MSE with 4 principal components: 15.040346382947156\n"
     ]
    }
   ],
   "source": [
    "pca_manual_with_noise('dataI.csv')"
   ]
  },
  {
   "cell_type": "code",
   "execution_count": 233,
   "id": "357f3e5a",
   "metadata": {},
   "outputs": [
    {
     "name": "stdout",
     "output_type": "stream",
     "text": [
      "MSE with 0 principal components: 1.1393682409846055\n",
      "MSE with 1 principal components: 15.090313962708732\n",
      "MSE with 2 principal components: 15.289385438013518\n",
      "MSE with 3 principal components: 15.516293405690107\n",
      "MSE with 4 principal components: 15.672768358843763\n"
     ]
    }
   ],
   "source": [
    "pca_manual_with_noise('dataII.csv')"
   ]
  },
  {
   "cell_type": "code",
   "execution_count": 234,
   "id": "3f6d5ce4",
   "metadata": {},
   "outputs": [
    {
     "name": "stdout",
     "output_type": "stream",
     "text": [
      "MSE with 0 principal components: 1.137384748177622\n",
      "MSE with 1 principal components: 14.923592445585568\n",
      "MSE with 2 principal components: 14.94908720074841\n",
      "MSE with 3 principal components: 14.996925123322864\n",
      "MSE with 4 principal components: 15.040346382947156\n"
     ]
    }
   ],
   "source": [
    "pca_manual_with_noise('dataI.csv')"
   ]
  },
  {
   "cell_type": "code",
   "execution_count": 235,
   "id": "b71fea99",
   "metadata": {},
   "outputs": [
    {
     "name": "stdout",
     "output_type": "stream",
     "text": [
      "MSE with 0 principal components: 1.137384748177622\n",
      "MSE with 1 principal components: 14.923592445585568\n",
      "MSE with 2 principal components: 14.94908720074841\n",
      "MSE with 3 principal components: 14.996925123322864\n",
      "MSE with 4 principal components: 15.040346382947156\n"
     ]
    }
   ],
   "source": [
    "pca_manual_with_noise('dataI.csv')"
   ]
  },
  {
   "cell_type": "code",
   "execution_count": 236,
   "id": "a02747fa",
   "metadata": {},
   "outputs": [
    {
     "name": "stdout",
     "output_type": "stream",
     "text": [
      "MSE with 0 principal components: 1.137384748177622\n",
      "MSE with 1 principal components: 14.923592445585568\n",
      "MSE with 2 principal components: 14.94908720074841\n",
      "MSE with 3 principal components: 14.996925123322864\n",
      "MSE with 4 principal components: 15.040346382947156\n"
     ]
    }
   ],
   "source": [
    "pca_manual_with_noise('dataI.csv')"
   ]
  },
  {
   "cell_type": "code",
   "execution_count": 237,
   "id": "d4590829",
   "metadata": {},
   "outputs": [],
   "source": [
    "# def test_calculate_MSE_for_principal_components_with_n(main_df):\n",
    "#     mean = np.mean(data, axis=0)\n",
    "#     main_df = main_df - mean\n",
    "#     print(main_df)\n",
    "#     pca = PCA(n_components=2)\n",
    "#     pca.fit(main_df)\n",
    "#     principal_components = pca.components_\n",
    "#     print(principal_components)\n",
    "#     projected_data = main_df @ principal_components.T\n",
    "#     print(projected_data)\n",
    "#     projected_df = pd.DataFrame(data=projected_data, columns=[f'component {y + 1}' for y in range(2)])\n",
    "#     reconstructed_data = pca.inverse_transform(projected_df)\n",
    "#     print(reconstructed_data)\n",
    "\n",
    "\n",
    "# test_calculate_MSE_for_principal_components_with_n(np.array([[1, 2, 3],[4, 5, 6],[7, 8, 9]]))"
   ]
  },
  {
   "cell_type": "code",
   "execution_count": 238,
   "id": "4d4f60a1",
   "metadata": {},
   "outputs": [],
   "source": [
    "def calculate_MSE_for_principal_components_with_n(data_path: str):\n",
    "    main_df = pd.read_csv(f'{base_dir}/iris.csv')\n",
    "    target_df = pd.read_csv(f'{base_dir}/{data_path}')\n",
    "    X1 = main_df[features]\n",
    "    X2 = target_df[['X1', 'X2', 'X3', 'X4']]\n",
    "    x1_scaled = scaler.fit_transform(X1)\n",
    "    x2_scaled = scaler.transform(X2)\n",
    "    mean_vector = X2.mean()\n",
    "    mean_df = pd.DataFrame(\n",
    "        np.repeat(mean_vector.values.reshape(1, -1), len(X1), axis=0), columns=['X1', 'X2', 'X3', 'X4']\n",
    "    )\n",
    "    zero_mse = mean_squared_error(X1, mean_df)\n",
    "    print(f\"MSE with 0 principal components: {zero_mse}\")\n",
    "    for n_components in range(1, 5):\n",
    "        pca = PCA(n_components=n_components)\n",
    "        pca.fit(x1_scaled)\n",
    "        principal_components = pca.components_\n",
    "#         print(principal_components)\n",
    "        projected_data = x2_scaled @ principal_components.T\n",
    "        projected_df = pd.DataFrame(data=projected_data, columns=[f'component {y + 1}' for y in range(n_components)])\n",
    "        reconstructed_data = pca.inverse_transform(projected_df)\n",
    "        reconstructed_df = pd.DataFrame(data=reconstructed_data, columns=['X1', 'X2', 'X3', 'X4'])\n",
    "        mse = mean_squared_error(x1_scaled, reconstructed_df)\n",
    "        print(f\"MSE with {n_components} principal components: {mse}\")"
   ]
  },
  {
   "cell_type": "code",
   "execution_count": 239,
   "id": "9485ef82",
   "metadata": {},
   "outputs": [
    {
     "name": "stdout",
     "output_type": "stream",
     "text": [
      "MSE with 0 principal components: 1.137384748177622\n",
      "MSE with 1 principal components: 0.3661459784519103\n",
      "MSE with 2 principal components: 0.5510822125311282\n",
      "MSE with 3 principal components: 0.6256759073986017\n",
      "MSE with 4 principal components: 0.670430444480072\n"
     ]
    }
   ],
   "source": [
    "calculate_MSE_for_principal_components_with_n('dataI.csv')"
   ]
  },
  {
   "cell_type": "code",
   "execution_count": 240,
   "id": "c8e091e3",
   "metadata": {},
   "outputs": [
    {
     "name": "stdout",
     "output_type": "stream",
     "text": [
      "MSE with 0 principal components: 1.1393682409846055\n",
      "MSE with 1 principal components: 0.5808093014283391\n",
      "MSE with 2 principal components: 1.4517723878782864\n",
      "MSE with 3 principal components: 1.7509295524724995\n",
      "MSE with 4 principal components: 1.9673046487446104\n"
     ]
    }
   ],
   "source": [
    "calculate_MSE_for_principal_components_with_n('dataII.csv')"
   ]
  },
  {
   "cell_type": "code",
   "execution_count": 241,
   "id": "f3990150",
   "metadata": {},
   "outputs": [
    {
     "name": "stdout",
     "output_type": "stream",
     "text": [
      "MSE with 0 principal components: 1.1415496666666671\n",
      "MSE with 1 principal components: 0.35778388413763174\n",
      "MSE with 2 principal components: 0.16026112608289372\n",
      "MSE with 3 principal components: 0.25508530724598016\n",
      "MSE with 4 principal components: 0.3029080808775075\n"
     ]
    }
   ],
   "source": [
    "calculate_MSE_for_principal_components_with_n('dataIII.csv')"
   ]
  },
  {
   "cell_type": "code",
   "execution_count": 242,
   "id": "2291062f",
   "metadata": {},
   "outputs": [
    {
     "name": "stdout",
     "output_type": "stream",
     "text": [
      "MSE with 0 principal components: 1.2299820000000001\n",
      "MSE with 1 principal components: 0.7784560427793944\n",
      "MSE with 2 principal components: 1.3083464445126884\n",
      "MSE with 3 principal components: 1.9390502141674062\n",
      "MSE with 4 principal components: 2.077096519748174\n"
     ]
    }
   ],
   "source": [
    "calculate_MSE_for_principal_components_with_n('dataIV.csv')"
   ]
  },
  {
   "cell_type": "code",
   "execution_count": 243,
   "id": "7e5ddb2e",
   "metadata": {},
   "outputs": [
    {
     "name": "stdout",
     "output_type": "stream",
     "text": [
      "MSE with 0 principal components: 1.135779757268974\n",
      "MSE with 1 principal components: 0.28392587767132926\n",
      "MSE with 2 principal components: 0.09696733317124878\n",
      "MSE with 3 principal components: 0.08020192584924901\n",
      "MSE with 4 principal components: 0.08420978800046296\n"
     ]
    }
   ],
   "source": [
    "calculate_MSE_for_principal_components_with_n('dataV.csv')"
   ]
  },
  {
   "cell_type": "code",
   "execution_count": 248,
   "id": "4b337a6f",
   "metadata": {},
   "outputs": [],
   "source": [
    "def calculate_MSE_for_principal_components_with_c(data_path: str):\n",
    "    main_df = pd.read_csv(f'{base_dir}/iris.csv')\n",
    "    target_df = pd.read_csv(f'{base_dir}/{data_path}')\n",
    "    X1 = main_df[features]\n",
    "    X2 = target_df[['X1', 'X2', 'X3', 'X4']]\n",
    "    x1_scaled = scaler.fit_transform(X1)\n",
    "    x2_scaled = scaler.transform(X2)\n",
    "    mean_vector = X2.mean()\n",
    "    mean_df = pd.DataFrame(\n",
    "        np.repeat(mean_vector.values.reshape(1, -1), len(X1), axis=0), columns=['X1', 'X2', 'X3', 'X4']\n",
    "    )\n",
    "    zero_mse = mean_squared_error(X1, mean_df)\n",
    "    print(f\"MSE with 0 principal components: {zero_mse}\")\n",
    "    for n_components in range(1, 5):\n",
    "        pca = PCA(n_components=n_components)\n",
    "        principal_components = pca.fit_transform(x2_scaled)\n",
    "        reconstructed_data = pca.inverse_transform(principal_components)\n",
    "        reconstructed_df = pd.DataFrame(data=reconstructed_data, columns=['X1', 'X2', 'X3', 'X4'])\n",
    "        mse = mean_squared_error(x1_scaled, reconstructed_data)\n",
    "        print(f\"MSE with {n_components} principal components: {mse}\")"
   ]
  },
  {
   "cell_type": "code",
   "execution_count": 249,
   "id": "b22a0ccc",
   "metadata": {},
   "outputs": [
    {
     "name": "stdout",
     "output_type": "stream",
     "text": [
      "MSE with 0 principal components: 1.137384748177622\n",
      "MSE with 1 principal components: 0.5807133218358302\n",
      "MSE with 2 principal components: 0.5868974502507708\n",
      "MSE with 3 principal components: 0.6368315034590912\n",
      "MSE with 4 principal components: 0.6704304444800724\n"
     ]
    }
   ],
   "source": [
    "calculate_MSE_for_principal_components_with_c('dataI.csv')"
   ]
  },
  {
   "cell_type": "code",
   "execution_count": 250,
   "id": "5932b693",
   "metadata": {},
   "outputs": [
    {
     "name": "stdout",
     "output_type": "stream",
     "text": [
      "MSE with 0 principal components: 1.1393682409846055\n",
      "MSE with 1 principal components: 1.7782099833779181\n",
      "MSE with 2 principal components: 1.5688142835432526\n",
      "MSE with 3 principal components: 1.872179780283427\n",
      "MSE with 4 principal components: 1.9673046487446095\n"
     ]
    }
   ],
   "source": [
    "calculate_MSE_for_principal_components_with_c('dataII.csv')"
   ]
  },
  {
   "cell_type": "code",
   "execution_count": 251,
   "id": "1b6cedfe",
   "metadata": {},
   "outputs": [
    {
     "name": "stdout",
     "output_type": "stream",
     "text": [
      "MSE with 0 principal components: 1.1415496666666671\n",
      "MSE with 1 principal components: 0.4211160807151677\n",
      "MSE with 2 principal components: 0.26381759060765714\n",
      "MSE with 3 principal components: 0.26997931218958016\n",
      "MSE with 4 principal components: 0.30290808087750765\n"
     ]
    }
   ],
   "source": [
    "calculate_MSE_for_principal_components_with_c('dataIII.csv')"
   ]
  },
  {
   "cell_type": "code",
   "execution_count": 252,
   "id": "5f83a49a",
   "metadata": {},
   "outputs": [
    {
     "name": "stdout",
     "output_type": "stream",
     "text": [
      "MSE with 0 principal components: 1.2299820000000001\n",
      "MSE with 1 principal components: 1.7523435427726923\n",
      "MSE with 2 principal components: 2.161499488982859\n",
      "MSE with 3 principal components: 2.0147502772527486\n",
      "MSE with 4 principal components: 2.0770965197481743\n"
     ]
    }
   ],
   "source": [
    "calculate_MSE_for_principal_components_with_c('dataIV.csv')"
   ]
  },
  {
   "cell_type": "code",
   "execution_count": 253,
   "id": "fa8fecb1",
   "metadata": {},
   "outputs": [
    {
     "name": "stdout",
     "output_type": "stream",
     "text": [
      "MSE with 0 principal components: 1.135779757268974\n",
      "MSE with 1 principal components: 0.28392587767132926\n",
      "MSE with 2 principal components: 0.09696733317124878\n",
      "MSE with 3 principal components: 0.08020192584924901\n",
      "MSE with 4 principal components: 0.08420978800046296\n"
     ]
    }
   ],
   "source": [
    "calculate_MSE_for_principal_components_with_n('dataV.csv')"
   ]
  },
  {
   "cell_type": "code",
   "execution_count": 254,
   "id": "e4493312",
   "metadata": {},
   "outputs": [],
   "source": [
    "main_df = pd.read_csv(f'{base_dir}/iris.csv')\n",
    "target_df = pd.read_csv(f'{base_dir}/dataI.csv')\n",
    "X1 = main_df[features]\n",
    "X2 = target_df[['X1', 'X2', 'X3', 'X4']]\n",
    "x1_scaled = scaler.fit_transform(X1)\n",
    "x2_scaled = scaler.transform(X2)\n",
    "pca = PCA(n_components=2)\n",
    "pca.fit(x1_scaled)\n",
    "principal_components = pca.components_\n",
    "projected_data = x2_scaled @ principal_components.T\n",
    "projected_df = pd.DataFrame(data=projected_data, columns=[f'component {y + 1}' for y in range(2)])\n",
    "reconstructed_data = pca.inverse_transform(projected_df)\n",
    "reconstructed_df = pd.DataFrame(data=reconstructed_data, columns=['X1', 'X2', 'X3', 'X4'])\n",
    "reconstructed_df.to_csv(f\"{base_dir}/generated_dataI.csv\")"
   ]
  },
  {
   "cell_type": "code",
   "execution_count": null,
   "id": "a41102dc",
   "metadata": {},
   "outputs": [],
   "source": []
  },
  {
   "cell_type": "code",
   "execution_count": null,
   "id": "6f66dbe2",
   "metadata": {},
   "outputs": [],
   "source": []
  }
 ],
 "metadata": {
  "kernelspec": {
   "display_name": "Python 3 (ipykernel)",
   "language": "python",
   "name": "python3"
  },
  "language_info": {
   "codemirror_mode": {
    "name": "ipython",
    "version": 3
   },
   "file_extension": ".py",
   "mimetype": "text/x-python",
   "name": "python",
   "nbconvert_exporter": "python",
   "pygments_lexer": "ipython3",
   "version": "3.9.13"
  }
 },
 "nbformat": 4,
 "nbformat_minor": 5
}
